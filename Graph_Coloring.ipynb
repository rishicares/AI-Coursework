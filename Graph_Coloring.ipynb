{
  "cells": [
    {
      "cell_type": "markdown",
      "metadata": {
        "colab_type": "text",
        "id": "view-in-github"
      },
      "source": [
        "<a href=\"https://colab.research.google.com/github/rishicares/AI-Coursework/blob/main/Graph_Coloring.ipynb\" target=\"_parent\"><img src=\"https://colab.research.google.com/assets/colab-badge.svg\" alt=\"Open In Colab\"/></a>"
      ]
    },
    {
      "cell_type": "code",
      "execution_count": 52,
      "metadata": {
        "colab": {
          "base_uri": "https://localhost:8080/"
        },
        "id": "4GtVPAQf6lrC",
        "outputId": "bc4e4a87-f98b-447a-ed30-e6cd5b37450a"
      },
      "outputs": [],
      "source": [
        "states = ['WA', 'NT', 'SA', 'Q', 'NSW', 'V', 'T']\n",
        "colors = ['red', 'blue', 'green', 'blue', 'orange']\n",
        "neighbours = {\n",
        "    'WA' : ['NT', 'SA'],\n",
        "    'NT' : ['WA', 'SA', 'Q'],\n",
        "    'Q' : ['NSW', 'NT', 'SA'],\n",
        "    'NSW' : ['Q', 'SA', 'V'],\n",
        "    'SA' : ['WA', 'NT', 'Q', 'NSW', 'V'],\n",
        "    'V' : ['NSW', 'SA'],\n",
        "    'T' : []\n",
        "}\n",
        "statecolor = {}\n",
        "\n",
        "\n",
        "for state in states:\n",
        "    used_colors = set()\n",
        "    for neighbour in neighbours[state]:\n",
        "        if neighbour in statecolor:\n",
        "            used_colors.add(statecolor[neighbour])\n",
        "    for color in colors:\n",
        "        if color not in used_colors:\n",
        "            statecolor[state] = color\n",
        "            break"
      ]
    },
    {
      "cell_type": "code",
      "execution_count": 53,
      "metadata": {},
      "outputs": [
        {
          "data": {
            "text/plain": [
              "{'WA': 'red',\n",
              " 'NT': 'blue',\n",
              " 'SA': 'green',\n",
              " 'Q': 'red',\n",
              " 'NSW': 'blue',\n",
              " 'V': 'red',\n",
              " 'T': 'red'}"
            ]
          },
          "execution_count": 53,
          "metadata": {},
          "output_type": "execute_result"
        }
      ],
      "source": [
        "statecolor"
      ]
    }
  ],
  "metadata": {
    "colab": {
      "authorship_tag": "ABX9TyNQQg1woCjGjCcheDOnmpa6",
      "include_colab_link": true,
      "provenance": []
    },
    "kernelspec": {
      "display_name": "Python 3",
      "name": "python3"
    },
    "language_info": {
      "codemirror_mode": {
        "name": "ipython",
        "version": 3
      },
      "file_extension": ".py",
      "mimetype": "text/x-python",
      "name": "python",
      "nbconvert_exporter": "python",
      "pygments_lexer": "ipython3",
      "version": "3.12.3"
    }
  },
  "nbformat": 4,
  "nbformat_minor": 0
}
