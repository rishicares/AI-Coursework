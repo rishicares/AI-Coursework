{
  "nbformat": 4,
  "nbformat_minor": 0,
  "metadata": {
    "colab": {
      "provenance": [],
      "authorship_tag": "ABX9TyNQQg1woCjGjCcheDOnmpa6",
      "include_colab_link": true
    },
    "kernelspec": {
      "name": "python3",
      "display_name": "Python 3"
    },
    "language_info": {
      "name": "python"
    }
  },
  "cells": [
    {
      "cell_type": "markdown",
      "metadata": {
        "id": "view-in-github",
        "colab_type": "text"
      },
      "source": [
        "<a href=\"https://colab.research.google.com/github/rishicares/AI-Coursework/blob/main/Graph_Coloring.ipynb\" target=\"_parent\"><img src=\"https://colab.research.google.com/assets/colab-badge.svg\" alt=\"Open In Colab\"/></a>"
      ]
    },
    {
      "cell_type": "code",
      "execution_count": 42,
      "metadata": {
        "colab": {
          "base_uri": "https://localhost:8080/"
        },
        "id": "4GtVPAQf6lrC",
        "outputId": "bc4e4a87-f98b-447a-ed30-e6cd5b37450a"
      },
      "outputs": [
        {
          "output_type": "execute_result",
          "data": {
            "text/plain": [
              "dict_items([('WA', ['NT', 'SA']), ('NT', ['WA', 'SA', 'Q']), ('Q', ['NSW', 'NT', 'SA']), ('NSW', ['Q', 'SA', 'V']), ('SA', ['WA', 'NT', 'Q', 'NSW', 'V']), ('V', ['NSW', 'SA']), ('T', [])])"
            ]
          },
          "metadata": {},
          "execution_count": 42
        }
      ],
      "source": [
        "states = ['WA', 'NT', 'SA', 'Q', 'NSSW', 'V', 'T']\n",
        "colors = ['red', 'blue', 'green', 'blue', 'orange']\n",
        "neighbours = {\n",
        "    'WA' : ['NT', 'SA'],\n",
        "    'NT' : ['WA', 'SA', 'Q'],\n",
        "    'Q' : ['NSW', 'NT', 'SA'],\n",
        "    'NSW' : ['Q', 'SA', 'V'],\n",
        "    'SA' : ['WA', 'NT', 'Q', 'NSW', 'V'],\n",
        "    'V' : ['NSW', 'SA'],\n",
        "    'T' : []\n",
        "}\n",
        "statecolor = {}\n",
        "neighbours.items()"
      ]
    },
    {
      "cell_type": "code",
      "source": [
        "for state in states:\n",
        "  for color in colors:\n",
        "    for neighbour, neighbours_list in neighbours.items():\n",
        "      for i in neighbours_list:\n",
        "        if (color not in statecolor.values()):\n",
        "          statecolor[state] = color\n"
      ],
      "metadata": {
        "id": "Weni7Bir8Qw8"
      },
      "execution_count": 46,
      "outputs": []
    },
    {
      "cell_type": "code",
      "source": [
        "statecolor"
      ],
      "metadata": {
        "colab": {
          "base_uri": "https://localhost:8080/"
        },
        "id": "7hYFLQA1_pVx",
        "outputId": "53f48ff2-3edb-466d-fa2c-afd82668f585"
      },
      "execution_count": 45,
      "outputs": [
        {
          "output_type": "execute_result",
          "data": {
            "text/plain": [
              "{'WA': 'orange', 'NT': 'blue', 'SA': 'green', 'Q': 'red'}"
            ]
          },
          "metadata": {},
          "execution_count": 45
        }
      ]
    },
    {
      "cell_type": "code",
      "source": [
        "import matplotlib.pyplot as plt"
      ],
      "metadata": {
        "id": "q4Q6Ep41A7v7"
      },
      "execution_count": null,
      "outputs": []
    },
    {
      "cell_type": "code",
      "source": [],
      "metadata": {
        "id": "_nH3WsDlFAam"
      },
      "execution_count": null,
      "outputs": []
    }
  ]
}